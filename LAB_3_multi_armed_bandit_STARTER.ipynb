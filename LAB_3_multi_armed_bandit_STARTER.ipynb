{
  "nbformat": 4,
  "nbformat_minor": 0,
  "metadata": {
    "colab": {
      "name": "LAB_3_multi_armed_bandit_STARTER.ipynb",
      "provenance": [],
      "collapsed_sections": [],
      "include_colab_link": true
    },
    "kernelspec": {
      "name": "python3",
      "display_name": "Python 3"
    }
  },
  "cells": [
    {
      "cell_type": "markdown",
      "metadata": {
        "id": "view-in-github",
        "colab_type": "text"
      },
      "source": [
        "<a href=\"https://colab.research.google.com/github/janzaw04/machinelearning/blob/main/LAB_3_multi_armed_bandit_STARTER.ipynb\" target=\"_parent\"><img src=\"https://colab.research.google.com/assets/colab-badge.svg\" alt=\"Open In Colab\"/></a>"
      ]
    },
    {
      "cell_type": "code",
      "metadata": {
        "id": "ABngBrP7TxHY"
      },
      "source": [
        "import matplotlib.pyplot as plt\n",
        "import numpy as np"
      ],
      "execution_count": 1,
      "outputs": []
    },
    {
      "cell_type": "code",
      "metadata": {
        "id": "2lp9Epm0PLuu"
      },
      "source": [
        "NUM_TRIALS = 10000\n",
        "BANDIT_PROBABILITIES = [0.2, 0.5, 0.75]\n",
        "EPSILON = 0.01"
      ],
      "execution_count": 35,
      "outputs": []
    },
    {
      "cell_type": "code",
      "metadata": {
        "id": "ybXa5BxYPu3_"
      },
      "source": [
        "class Bandit:\n",
        "  def __init__(self, q):\n",
        "    self.q = q\n",
        "    self.q_estimate = 7.\n",
        "    self.N = 0. \n",
        "\n",
        "  def pull(self):\n",
        "    return np.random.random() < self.q\n",
        "\n",
        "  def update(self, r):\n",
        "    self.N += 1.\n",
        "    self.q_estimate = ((self.N - 1) * self.q_estimate + r) / self.N"
      ],
      "execution_count": 36,
      "outputs": []
    },
    {
      "cell_type": "code",
      "metadata": {
        "colab": {
          "base_uri": "https://localhost:8080/",
          "height": 371
        },
        "id": "oqJXwSw5UWYZ",
        "outputId": "06ad3579-5d7f-41f8-ffc3-16b72dc9a120"
      },
      "source": [
        "def experiment_greedy():\n",
        "  bandits = [Bandit(q) for q in BANDIT_PROBABILITIES]\n",
        "  rewards = np.zeros(NUM_TRIALS)\n",
        "\n",
        "  for i in range(NUM_TRIALS):\n",
        "\n",
        "    j = np.argmax([b.q_estimate for b in bandits])\n",
        "\n",
        "    r = bandits[j].pull()\n",
        "\n",
        "    rewards[i] = r\n",
        "\n",
        "    bandits[j].update(r)\n",
        "\n",
        "  for b in bandits:\n",
        "    print(\"mean estimate:\", b.q_estimate)\n",
        "\n",
        "  print(\"total reward earned:\", rewards.sum())\n",
        "  print(\"overall win rate:\", rewards.sum() / NUM_TRIALS)\n",
        "  print(\"num times selected each bandit:\", [b.N for b in bandits])\n",
        "\n",
        "  cumulative_rewards = np.cumsum(rewards)\n",
        "  win_rates = cumulative_rewards / (np.arange(NUM_TRIALS) + 1)\n",
        "  plt.ylim([0, 1])\n",
        "  plt.plot(win_rates)\n",
        "  plt.plot(np.ones(NUM_TRIALS)*np.max(BANDIT_PROBABILITIES))\n",
        "  plt.show()\n",
        "\n",
        "if __name__ == \"__main__\":\n",
        "  experiment_greedy()"
      ],
      "execution_count": 18,
      "outputs": [
        {
          "output_type": "stream",
          "text": [
            "mean estimate: 0.19359999999999966\n",
            "mean estimate: 0.0\n",
            "mean estimate: 0.0\n",
            "total reward earned: 1936.0\n",
            "overall win rate: 0.1936\n",
            "num times selected each bandit: [10000.0, 0.0, 0.0]\n"
          ],
          "name": "stdout"
        },
        {
          "output_type": "display_data",
          "data": {
            "image/png": "[encoded data removed]",
            "text/plain": [
              "<Figure size 432x288 with 1 Axes>"
            ]
          },
          "metadata": {
            "tags": [],
            "needs_background": "light"
          }
        }
      ]
    },
    {
      "cell_type": "code",
      "metadata": {
        "colab": {
          "base_uri": "https://localhost:8080/",
          "height": 439
        },
        "id": "o4pQyvEhXczv",
        "outputId": "e256bbd8-0ab3-4ba1-a042-d901352d6f56"
      },
      "source": [
        "def experiment_epsilon():\n",
        "  bandits = [Bandit(q) for q in BANDIT_PROBABILITIES]\n",
        "  rewards = np.zeros(NUM_TRIALS)\n",
        "  num_times_explored = 0\n",
        "  num_times_exploited = 0\n",
        "  num_optimal = 0\n",
        "  optimal_bandit = np.argmax([b.q for b in bandits])\n",
        "  print(\"optimal bandit:\", optimal_bandit)\n",
        "\n",
        "  for i in range(NUM_TRIALS):\n",
        "    if np.random.random() < EPSILON:\n",
        "      num_times_explored += 1\n",
        "      j = np.random.randint(len(bandits))\n",
        "\n",
        "    else:\n",
        "      num_times_exploited += 1\n",
        "      j = np.argmax([b.q_estimate for b in bandits])\n",
        "\n",
        "    if j == optimal_bandit:\n",
        "      num_optimal += 1\n",
        "\n",
        "    r = bandits[j].pull()\n",
        "\n",
        "    rewards[i] = r\n",
        "\n",
        "    bandits[j].update(r)\n",
        "\n",
        "  for b in bandits:\n",
        "    print(\"mean estimate:\", b.q_estimate)\n",
        "\n",
        "  print(\"total reward earned:\", rewards.sum())\n",
        "  print(\"overall win rate:\", rewards.sum() / NUM_TRIALS)\n",
        "  print(\"num times selected each bandit:\", [b.N for b in bandits])\n",
        "  print(\"num times selected optimal bandit:\", num_optimal)\n",
        "  print(\"num times explored:\", num_times_explored)\n",
        "  print(\"num times exploited\", num_times_exploited)\n",
        "\n",
        "  cumulative_rewards = np.cumsum(rewards)\n",
        "  win_rates = cumulative_rewards / (np.arange(NUM_TRIALS) + 1)\n",
        "  plt.ylim([0, 1])\n",
        "  plt.plot(win_rates)\n",
        "  plt.plot(np.ones(NUM_TRIALS)*np.max(BANDIT_PROBABILITIES))\n",
        "  plt.show()\n",
        "\n",
        "if __name__ == \"__main__\":\n",
        "  experiment_epsilon()"
      ],
      "execution_count": 37,
      "outputs": [
        {
          "output_type": "stream",
          "text": [
            "optimal bandit: 2\n",
            "mean estimate: 0.13793103448275862\n",
            "mean estimate: 0.5\n",
            "mean estimate: 0.7484150145919299\n",
            "total reward earned: 7458.0\n",
            "overall win rate: 0.7458\n",
            "num times selected each bandit: [29.0, 34.0, 9937.0]\n",
            "num times selected optimal bandit: 9937\n",
            "num times explored: 85\n",
            "num times exploited 9915\n"
          ],
          "name": "stdout"
        },
        {
          "output_type": "display_data",
          "data": {
            "image/png": "[encoded data removed]",
            "text/plain": [
              "<Figure size 432x288 with 1 Axes>"
            ]
          },
          "metadata": {
            "tags": [],
            "needs_background": "light"
          }
        }
      ]
    },
    {
      "cell_type": "code",
      "metadata": {
        "colab": {
          "base_uri": "https://localhost:8080/",
          "height": 371
        },
        "id": "5C3ouQfUadkf",
        "outputId": "9ffc271f-4e00-4aaf-8763-e4e2357c0607"
      },
      "source": [
        "def experiment_optimistic():\n",
        "  bandits = [Bandit(q) for q in BANDIT_PROBABILITIES]\n",
        "  rewards = np.zeros(NUM_TRIALS)\n",
        "\n",
        "  for i in range(NUM_TRIALS):\n",
        "\n",
        "    j = np.argmax([b.q_estimate for b in bandits])\n",
        "\n",
        "    r = bandits[j].pull()\n",
        "\n",
        "    rewards[i] = r\n",
        "\n",
        "    bandits[j].update(r)\n",
        "\n",
        "  for b in bandits:\n",
        "    print(\"mean estimate:\", b.q_estimate)\n",
        "\n",
        "  print(\"total reward earned:\", rewards.sum())\n",
        "  print(\"overall win rate:\", rewards.sum() / NUM_TRIALS)\n",
        "  print(\"num times selected each bandit:\", [b.N for b in bandits])\n",
        "\n",
        "  cumulative_rewards = np.cumsum(rewards)\n",
        "  win_rates = cumulative_rewards / (np.arange(NUM_TRIALS) + 1)\n",
        "  plt.ylim([0, 1])\n",
        "  plt.plot(win_rates)\n",
        "  plt.plot(np.ones(NUM_TRIALS)*np.max(BANDIT_PROBABILITIES))\n",
        "  plt.show()\n",
        "\n",
        "if __name__ == \"__main__\":\n",
        "  experiment_optimistic()"
      ],
      "execution_count": 39,
      "outputs": [
        {
          "output_type": "stream",
          "text": [
            "mean estimate: 0.0\n",
            "mean estimate: 0.5714285714285714\n",
            "mean estimate: 0.748198558847077\n",
            "total reward earned: 7480.0\n",
            "overall win rate: 0.748\n",
            "num times selected each bandit: [1.0, 7.0, 9992.0]\n"
          ],
          "name": "stdout"
        },
        {
          "output_type": "display_data",
          "data": {
            "image/png": "[encoded data removed]",
            "text/plain": [
              "<Figure size 432x288 with 1 Axes>"
            ]
          },
          "metadata": {
            "tags": [],
            "needs_background": "light"
          }
        }
      ]
    }
  ]
}