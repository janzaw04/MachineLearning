{
  "nbformat": 4,
  "nbformat_minor": 0,
  "metadata": {
    "colab": {
      "name": "WYK_9-Zadanie-ZawadzkiJan",
      "provenance": [],
      "collapsed_sections": [],
      "authorship_tag": "ABX9TyN2MJVug5W4sgUSsS/DV5rs",
      "include_colab_link": true
    },
    "kernelspec": {
      "name": "python3",
      "display_name": "Python 3"
    },
    "language_info": {
      "name": "python"
    }
  },
  "cells": [
    {
      "cell_type": "markdown",
      "metadata": {
        "id": "view-in-github",
        "colab_type": "text"
      },
      "source": [
        "<a href=\"https://colab.research.google.com/github/janzaw04/machinelearning/blob/main/WYK_9_Zadanie_ZawadzkiJan.ipynb\" target=\"_parent\"><img src=\"https://colab.research.google.com/assets/colab-badge.svg\" alt=\"Open In Colab\"/></a>"
      ]
    },
    {
      "cell_type": "code",
      "metadata": {
        "id": "_b741JBZufQt"
      },
      "source": [
        "import numpy as np\n",
        "\n",
        "import sys, os\n",
        "if 'google.colab' in sys.modules and not os.path.exists('.setup_complete'):\n",
        "    !wget -q https://raw.githubusercontent.com/yandexdataschool/Practical_RL/coursera/week2_model_based/mdp.py"
      ],
      "execution_count": 1,
      "outputs": []
    },
    {
      "cell_type": "code",
      "metadata": {
        "id": "NWzSdOZkuoGT"
      },
      "source": [
        "transition_probs = {\n",
        "    's0': {\n",
        "        'a0': {'s0': 0.5, 's1': 0.5},\n",
        "        'a1': {'s0': 1}\n",
        "    },\n",
        "    's1': {\n",
        "        'a0': {'s0': 0.95, 's1': 0.05},\n",
        "        'a1': {'s1': 1},\n",
        "        'a2': {'s0': 1}\n",
        "    }\n",
        "}\n",
        "rewards = {\n",
        "    's0': {'a0': {'s0': +5, 's1': +5},\n",
        "    'a1': {'s0': +1}},\n",
        "    's1': {'a0': {'s0': -100, 's1': +5},\n",
        "    'a1': {'s1': +1},\n",
        "    'a2': {'s0': +0.5}},\n",
        "}\n",
        "\n",
        "from mdp import MDP\n",
        "mdp = MDP(transition_probs, rewards, initial_state='s0')"
      ],
      "execution_count": 2,
      "outputs": []
    },
    {
      "cell_type": "code",
      "metadata": {
        "colab": {
          "base_uri": "https://localhost:8080/",
          "height": 35
        },
        "id": "nqQYK6TquoEw",
        "outputId": "89b1c6fb-b749-400d-bc8c-dcd458d7afce"
      },
      "source": [
        "mdp.reset()"
      ],
      "execution_count": 3,
      "outputs": [
        {
          "output_type": "execute_result",
          "data": {
            "application/vnd.google.colaboratory.intrinsic+json": {
              "type": "string"
            },
            "text/plain": [
              "'s0'"
            ]
          },
          "metadata": {
            "tags": []
          },
          "execution_count": 3
        }
      ]
    },
    {
      "cell_type": "code",
      "metadata": {
        "colab": {
          "base_uri": "https://localhost:8080/"
        },
        "id": "WrKgSTFmuoC8",
        "outputId": "527cfbd8-ee25-4197-db86-ae83e420e50c"
      },
      "source": [
        "next_state, reward, done, info = mdp.step('a1')\n",
        "print(next_state, reward, done, info)"
      ],
      "execution_count": 4,
      "outputs": [
        {
          "output_type": "stream",
          "text": [
            "s0 1 False {}\n"
          ],
          "name": "stdout"
        }
      ]
    },
    {
      "cell_type": "code",
      "metadata": {
        "colab": {
          "base_uri": "https://localhost:8080/"
        },
        "id": "ep5tqPc7uoBI",
        "outputId": "b761a793-921f-4abd-a19f-8ca63c79bcbf"
      },
      "source": [
        "mdp.get_all_states()"
      ],
      "execution_count": 5,
      "outputs": [
        {
          "output_type": "execute_result",
          "data": {
            "text/plain": [
              "('s0', 's1')"
            ]
          },
          "metadata": {
            "tags": []
          },
          "execution_count": 5
        }
      ]
    },
    {
      "cell_type": "code",
      "metadata": {
        "colab": {
          "base_uri": "https://localhost:8080/"
        },
        "id": "bGkwsPHgun_Z",
        "outputId": "a5acda87-f7e4-46d9-f432-727ef5255fe7"
      },
      "source": [
        "mdp.get_possible_actions('s1')"
      ],
      "execution_count": 6,
      "outputs": [
        {
          "output_type": "execute_result",
          "data": {
            "text/plain": [
              "('a0', 'a1', 'a2')"
            ]
          },
          "metadata": {
            "tags": []
          },
          "execution_count": 6
        }
      ]
    },
    {
      "cell_type": "code",
      "metadata": {
        "colab": {
          "base_uri": "https://localhost:8080/"
        },
        "id": "i_m6bQxPun9p",
        "outputId": "037d57cc-f670-41c5-a2f3-0c8519191836"
      },
      "source": [
        "mdp.get_next_states('s1', 'a0')"
      ],
      "execution_count": 7,
      "outputs": [
        {
          "output_type": "execute_result",
          "data": {
            "text/plain": [
              "{'s0': 0.95, 's1': 0.05}"
            ]
          },
          "metadata": {
            "tags": []
          },
          "execution_count": 7
        }
      ]
    },
    {
      "cell_type": "code",
      "metadata": {
        "colab": {
          "base_uri": "https://localhost:8080/"
        },
        "id": "wt9WFbz6un70",
        "outputId": "0abe2e83-c90d-464e-9799-e18f5b9fc404"
      },
      "source": [
        "mdp.get_reward('s1', 'a2', 's0')"
      ],
      "execution_count": 8,
      "outputs": [
        {
          "output_type": "execute_result",
          "data": {
            "text/plain": [
              "0.5"
            ]
          },
          "metadata": {
            "tags": []
          },
          "execution_count": 8
        }
      ]
    },
    {
      "cell_type": "code",
      "metadata": {
        "colab": {
          "base_uri": "https://localhost:8080/"
        },
        "id": "s4PRPKi0un55",
        "outputId": "c21f9639-189c-4884-bc03-13892379e8b0"
      },
      "source": [
        "mdp.get_transition_prob('s1', 'a0', 's0')"
      ],
      "execution_count": 9,
      "outputs": [
        {
          "output_type": "execute_result",
          "data": {
            "text/plain": [
              "0.95"
            ]
          },
          "metadata": {
            "tags": []
          },
          "execution_count": 9
        }
      ]
    },
    {
      "cell_type": "code",
      "metadata": {
        "colab": {
          "base_uri": "https://localhost:8080/",
          "height": 346
        },
        "id": "r4a3HN6vun4M",
        "outputId": "f82b7890-6a8e-4ad0-eca6-712f0900f40d"
      },
      "source": [
        "from mdp import has_graphviz\n",
        "from IPython.display import display\n",
        "\n",
        "if has_graphviz:\n",
        "    from mdp import plot_graph\n",
        "    display(plot_graph(mdp))"
      ],
      "execution_count": 10,
      "outputs": [
        {
          "output_type": "display_data",
          "data": {
            "text/plain": [
              "<graphviz.dot.Digraph at 0x7f4d633b5a50>"
            ],
            "image/svg+xml": "<?xml version=\"1.0\" encoding=\"UTF-8\" standalone=\"no\"?>\n<!DOCTYPE svg PUBLIC \"-//W3C//DTD SVG 1.1//EN\"\n \"http://www.w3.org/Graphics/SVG/1.1/DTD/svg11.dtd\">\n<!-- Generated by graphviz version 2.40.1 (20161225.0304)\n -->\n<!-- Title: MDP Pages: 1 -->\n<svg width=\"720pt\" height=\"244pt\"\n viewBox=\"0.00 0.00 720.00 243.86\" xmlns=\"http://www.w3.org/2000/svg\" xmlns:xlink=\"http://www.w3.org/1999/xlink\">\n<g id=\"graph0\" class=\"graph\" transform=\"scale(.8799 .8799) rotate(0) translate(4 273.1543)\">\n<title>MDP</title>\n<polygon fill=\"#ffffff\" stroke=\"transparent\" points=\"-4,4 -4,-273.1543 814.3087,-273.1543 814.3087,4 -4,4\"/>\n<!-- s0 -->\n<g id=\"node1\" class=\"node\">\n<title>s0</title>\n<ellipse fill=\"#85ff75\" stroke=\"#85ff75\" cx=\"40\" cy=\"-96.5772\" rx=\"36\" ry=\"36\"/>\n<ellipse fill=\"none\" stroke=\"#85ff75\" cx=\"40\" cy=\"-96.5772\" rx=\"40\" ry=\"40\"/>\n<text text-anchor=\"middle\" x=\"40\" y=\"-90.3772\" font-family=\"Arial\" font-size=\"24.00\" fill=\"#000000\">s0</text>\n</g>\n<!-- s0&#45;a0 -->\n<g id=\"node2\" class=\"node\">\n<title>s0&#45;a0</title>\n<ellipse fill=\"#ffb6c1\" stroke=\"#ffb6c1\" cx=\"273.5772\" cy=\"-142.5772\" rx=\"27.6545\" ry=\"27.6545\"/>\n<text text-anchor=\"middle\" x=\"273.5772\" y=\"-137.5772\" font-family=\"Arial\" font-size=\"20.00\" fill=\"#000000\">a0</text>\n</g>\n<!-- s0&#45;&gt;s0&#45;a0 -->\n<g id=\"edge1\" class=\"edge\">\n<title>s0&#45;&gt;s0&#45;a0</title>\n<path fill=\"none\" stroke=\"#ff0000\" stroke-width=\"2\" d=\"M80.2091,-99.3993C118.6885,-102.7883 178.0903,-109.8284 228,-123.5772 231.6004,-124.569 235.2952,-125.7734 238.948,-127.0894\"/>\n<polygon fill=\"#ff0000\" stroke=\"#ff0000\" stroke-width=\"2\" points=\"237.8366,-130.4123 248.4256,-130.764 240.3671,-123.8857 237.8366,-130.4123\"/>\n</g>\n<!-- s0&#45;a1 -->\n<g id=\"node4\" class=\"node\">\n<title>s0&#45;a1</title>\n<ellipse fill=\"#ffb6c1\" stroke=\"#ffb6c1\" cx=\"273.5772\" cy=\"-27.5772\" rx=\"27.6545\" ry=\"27.6545\"/>\n<text text-anchor=\"middle\" x=\"273.5772\" y=\"-22.5772\" font-family=\"Arial\" font-size=\"20.00\" fill=\"#000000\">a1</text>\n</g>\n<!-- s0&#45;&gt;s0&#45;a1 -->\n<g id=\"edge4\" class=\"edge\">\n<title>s0&#45;&gt;s0&#45;a1</title>\n<path fill=\"none\" stroke=\"#ff0000\" stroke-width=\"2\" d=\"M77.1179,-80.8082C83.9906,-78.1897 91.1592,-75.6546 98,-73.5772 154.5524,-56.4029 171.4356,-62.7119 228,-45.5772 231.3586,-44.5598 234.8182,-43.4029 238.259,-42.1779\"/>\n<polygon fill=\"#ff0000\" stroke=\"#ff0000\" stroke-width=\"2\" points=\"239.6683,-45.3876 247.807,-38.6045 237.2146,-38.8317 239.6683,-45.3876\"/>\n</g>\n<!-- s0&#45;a0&#45;&gt;s0 -->\n<g id=\"edge2\" class=\"edge\">\n<title>s0&#45;a0&#45;&gt;s0</title>\n<path fill=\"none\" stroke=\"#0000ff\" stroke-dasharray=\"5,2\" d=\"M245.7716,-141.3884C210.782,-139.3724 149.0837,-134.0843 98,-120.5772 94.1398,-119.5565 90.1964,-118.3363 86.2727,-116.9947\"/>\n<polygon fill=\"#0000ff\" stroke=\"#0000ff\" points=\"87.2125,-113.6114 76.6188,-113.454 84.8021,-120.1834 87.2125,-113.6114\"/>\n<text text-anchor=\"middle\" x=\"163\" y=\"-144.7772\" font-family=\"Arial\" font-size=\"16.00\" fill=\"#000000\">p = 0.5 &#160;reward =5</text>\n</g>\n<!-- s1 -->\n<g id=\"node3\" class=\"node\">\n<title>s1</title>\n<ellipse fill=\"#85ff75\" stroke=\"#85ff75\" cx=\"540.1543\" cy=\"-164.5772\" rx=\"36\" ry=\"36\"/>\n<ellipse fill=\"none\" stroke=\"#85ff75\" cx=\"540.1543\" cy=\"-164.5772\" rx=\"40\" ry=\"40\"/>\n<text text-anchor=\"middle\" x=\"540.1543\" y=\"-158.3772\" font-family=\"Arial\" font-size=\"24.00\" fill=\"#000000\">s1</text>\n</g>\n<!-- s0&#45;a0&#45;&gt;s1 -->\n<g id=\"edge3\" class=\"edge\">\n<title>s0&#45;a0&#45;&gt;s1</title>\n<path fill=\"none\" stroke=\"#0000ff\" stroke-dasharray=\"5,2\" d=\"M301.1015,-144.8487C345.5592,-148.5177 433.8298,-155.8024 489.7754,-160.4195\"/>\n<polygon fill=\"#0000ff\" stroke=\"#0000ff\" points=\"489.5736,-163.9147 499.8276,-161.2491 490.1494,-156.9384 489.5736,-163.9147\"/>\n<text text-anchor=\"middle\" x=\"400.6543\" y=\"-163.7772\" font-family=\"Arial\" font-size=\"16.00\" fill=\"#000000\">p = 0.5 &#160;reward =5</text>\n</g>\n<!-- s1&#45;a0 -->\n<g id=\"node5\" class=\"node\">\n<title>s1&#45;a0</title>\n<ellipse fill=\"#ffb6c1\" stroke=\"#ffb6c1\" cx=\"782.7315\" cy=\"-241.5772\" rx=\"27.6545\" ry=\"27.6545\"/>\n<text text-anchor=\"middle\" x=\"782.7315\" y=\"-236.5772\" font-family=\"Arial\" font-size=\"20.00\" fill=\"#000000\">a0</text>\n</g>\n<!-- s1&#45;&gt;s1&#45;a0 -->\n<g id=\"edge6\" class=\"edge\">\n<title>s1&#45;&gt;s1&#45;a0</title>\n<path fill=\"none\" stroke=\"#ff0000\" stroke-width=\"2\" d=\"M562.7756,-198.0333C572.2934,-209.3975 584.3739,-220.9001 598.1543,-227.5772 644.8125,-250.1848 705.9684,-249.8578 744.8184,-246.5244\"/>\n<polygon fill=\"#ff0000\" stroke=\"#ff0000\" stroke-width=\"2\" points=\"745.539,-249.971 755.154,-245.521 744.8625,-243.0037 745.539,-249.971\"/>\n</g>\n<!-- s1&#45;a1 -->\n<g id=\"node6\" class=\"node\">\n<title>s1&#45;a1</title>\n<ellipse fill=\"#ffb6c1\" stroke=\"#ffb6c1\" cx=\"782.7315\" cy=\"-165.5772\" rx=\"27.6545\" ry=\"27.6545\"/>\n<text text-anchor=\"middle\" x=\"782.7315\" y=\"-160.5772\" font-family=\"Arial\" font-size=\"20.00\" fill=\"#000000\">a1</text>\n</g>\n<!-- s1&#45;&gt;s1&#45;a1 -->\n<g id=\"edge9\" class=\"edge\">\n<title>s1&#45;&gt;s1&#45;a1</title>\n<path fill=\"none\" stroke=\"#ff0000\" stroke-width=\"2\" d=\"M580.211,-164.7423C625.932,-164.9308 700.1545,-165.2367 744.9177,-165.4213\"/>\n<polygon fill=\"#ff0000\" stroke=\"#ff0000\" stroke-width=\"2\" points=\"745.0713,-168.9218 755.0857,-165.4632 745.1002,-161.9219 745.0713,-168.9218\"/>\n</g>\n<!-- s1&#45;a2 -->\n<g id=\"node7\" class=\"node\">\n<title>s1&#45;a2</title>\n<ellipse fill=\"#ffb6c1\" stroke=\"#ffb6c1\" cx=\"782.7315\" cy=\"-87.5772\" rx=\"27.6545\" ry=\"27.6545\"/>\n<text text-anchor=\"middle\" x=\"782.7315\" y=\"-82.5772\" font-family=\"Arial\" font-size=\"20.00\" fill=\"#000000\">a2</text>\n</g>\n<!-- s1&#45;&gt;s1&#45;a2 -->\n<g id=\"edge11\" class=\"edge\">\n<title>s1&#45;&gt;s1&#45;a2</title>\n<path fill=\"none\" stroke=\"#ff0000\" stroke-width=\"2\" d=\"M573.5595,-141.9581C581.3855,-137.3631 589.8649,-132.9203 598.1543,-129.5772 624.5772,-118.921 699.8781,-103.4331 745.7268,-94.5467\"/>\n<polygon fill=\"#ff0000\" stroke=\"#ff0000\" stroke-width=\"2\" points=\"746.4318,-97.9753 755.5902,-92.6486 745.109,-91.1014 746.4318,-97.9753\"/>\n</g>\n<!-- s0&#45;a1&#45;&gt;s0 -->\n<g id=\"edge5\" class=\"edge\">\n<title>s0&#45;a1&#45;&gt;s0</title>\n<path fill=\"none\" stroke=\"#0000ff\" stroke-dasharray=\"5,2\" d=\"M247.0133,-19.8154C211.1921,-10.8884 146.3272,-.2502 98,-23.5772 84.616,-30.0374 73.372,-41.2535 64.4544,-52.983\"/>\n<polygon fill=\"#0000ff\" stroke=\"#0000ff\" points=\"61.6008,-50.9564 58.6547,-61.1334 67.3042,-55.0149 61.6008,-50.9564\"/>\n<text text-anchor=\"middle\" x=\"163\" y=\"-28.7772\" font-family=\"Arial\" font-size=\"16.00\" fill=\"#000000\">p = 1 &#160;reward =1</text>\n</g>\n<!-- s1&#45;a0&#45;&gt;s0 -->\n<g id=\"edge7\" class=\"edge\">\n<title>s1&#45;a0&#45;&gt;s0</title>\n<path fill=\"none\" stroke=\"#0000ff\" stroke-dasharray=\"5,2\" d=\"M755.8982,-248.4722C749.7787,-249.7626 743.2752,-250.9136 737.1543,-251.5772 675.7364,-258.2358 659.6875,-257.0693 598.1543,-251.5772 373.1876,-231.4977 295.1032,-271.8656 98,-161.5772 87.2763,-155.5767 77.5172,-146.8376 69.1906,-137.7026\"/>\n<polygon fill=\"#0000ff\" stroke=\"#0000ff\" points=\"71.7223,-135.279 62.5434,-129.9876 66.4192,-139.8481 71.7223,-135.279\"/>\n<text text-anchor=\"middle\" x=\"400.6543\" y=\"-249.7772\" font-family=\"Arial\" font-size=\"16.00\" fill=\"#000000\">p = 0.95 &#160;reward =&#45;100</text>\n</g>\n<!-- s1&#45;a0&#45;&gt;s1 -->\n<g id=\"edge8\" class=\"edge\">\n<title>s1&#45;a0&#45;&gt;s1</title>\n<path fill=\"none\" stroke=\"#0000ff\" stroke-dasharray=\"5,2\" d=\"M762.7941,-222.4498C755.2782,-216.1954 746.3189,-209.7824 737.1543,-205.5772 679.956,-179.3314 659.6465,-191.9638 598.1543,-178.5772 595.1637,-177.9261 592.0908,-177.2389 588.9945,-176.5324\"/>\n<polygon fill=\"#0000ff\" stroke=\"#0000ff\" points=\"589.6301,-173.0869 579.0973,-174.2317 588.0451,-179.9051 589.6301,-173.0869\"/>\n<text text-anchor=\"middle\" x=\"667.6543\" y=\"-210.7772\" font-family=\"Arial\" font-size=\"16.00\" fill=\"#000000\">p = 0.05 &#160;reward =5</text>\n</g>\n<!-- s1&#45;a1&#45;&gt;s1 -->\n<g id=\"edge10\" class=\"edge\">\n<title>s1&#45;a1&#45;&gt;s1</title>\n<path fill=\"none\" stroke=\"#0000ff\" stroke-dasharray=\"5,2\" d=\"M758.939,-150.9551C752.1461,-147.5169 744.5695,-144.3421 737.1543,-142.5772 677.0556,-128.2722 658.9199,-131.4398 598.1543,-142.5772 594.4401,-143.2579 590.6554,-144.1649 586.889,-145.2233\"/>\n<polygon fill=\"#0000ff\" stroke=\"#0000ff\" points=\"585.5117,-141.9874 577.0233,-148.3276 587.6128,-148.6647 585.5117,-141.9874\"/>\n<text text-anchor=\"middle\" x=\"667.6543\" y=\"-147.7772\" font-family=\"Arial\" font-size=\"16.00\" fill=\"#000000\">p = 1 &#160;reward =1</text>\n</g>\n<!-- s1&#45;a2&#45;&gt;s0 -->\n<g id=\"edge12\" class=\"edge\">\n<title>s1&#45;a2&#45;&gt;s0</title>\n<path fill=\"none\" stroke=\"#0000ff\" stroke-dasharray=\"5,2\" d=\"M754.7987,-87.9156C644.0034,-89.2582 234.5201,-94.2201 90.5005,-95.9652\"/>\n<polygon fill=\"#0000ff\" stroke=\"#0000ff\" points=\"90.1526,-92.4691 80.1958,-96.0901 90.2375,-99.4686 90.1526,-92.4691\"/>\n<text text-anchor=\"middle\" x=\"400.6543\" y=\"-98.7772\" font-family=\"Arial\" font-size=\"16.00\" fill=\"#000000\">p = 1 &#160;reward =0.5</text>\n</g>\n</g>\n</svg>\n"
          },
          "metadata": {
            "tags": []
          }
        }
      ]
    },
    {
      "cell_type": "code",
      "metadata": {
        "colab": {
          "base_uri": "https://localhost:8080/"
        },
        "id": "YWyHLwD1un2k",
        "outputId": "afe16842-205f-47d8-81ed-d605c6635595"
      },
      "source": [
        "import random\n",
        "\n",
        "for t in range(200):\n",
        "  actions = ['a0', 'a1']\n",
        "  action = random.choice(actions)\n",
        "  observation, reward, done, info = mdp.step(action)\n",
        "  print(t, observation, reward, done)"
      ],
      "execution_count": 11,
      "outputs": [
        {
          "output_type": "stream",
          "text": [
            "0 s0 1 False\n",
            "1 s0 1 False\n",
            "2 s0 5 False\n",
            "3 s0 1 False\n",
            "4 s1 5 False\n",
            "5 s1 1 False\n",
            "6 s0 -100 False\n",
            "7 s0 1 False\n",
            "8 s1 5 False\n",
            "9 s1 1 False\n",
            "10 s1 1 False\n",
            "11 s0 -100 False\n",
            "12 s0 1 False\n",
            "13 s0 1 False\n",
            "14 s0 5 False\n",
            "15 s0 1 False\n",
            "16 s0 5 False\n",
            "17 s0 1 False\n",
            "18 s0 5 False\n",
            "19 s0 1 False\n",
            "20 s0 5 False\n",
            "21 s0 5 False\n",
            "22 s0 1 False\n",
            "23 s0 5 False\n",
            "24 s0 1 False\n",
            "25 s1 5 False\n",
            "26 s0 -100 False\n",
            "27 s0 5 False\n",
            "28 s1 5 False\n",
            "29 s0 -100 False\n",
            "30 s0 1 False\n",
            "31 s0 1 False\n",
            "32 s0 1 False\n",
            "33 s0 5 False\n",
            "34 s1 5 False\n",
            "35 s1 1 False\n",
            "36 s1 1 False\n",
            "37 s1 1 False\n",
            "38 s1 1 False\n",
            "39 s0 -100 False\n",
            "40 s0 5 False\n",
            "41 s0 1 False\n",
            "42 s1 5 False\n",
            "43 s0 -100 False\n",
            "44 s1 5 False\n",
            "45 s0 -100 False\n",
            "46 s0 5 False\n",
            "47 s1 5 False\n",
            "48 s0 -100 False\n",
            "49 s0 1 False\n",
            "50 s0 5 False\n",
            "51 s0 1 False\n",
            "52 s0 1 False\n",
            "53 s0 1 False\n",
            "54 s0 1 False\n",
            "55 s0 5 False\n",
            "56 s0 5 False\n",
            "57 s1 5 False\n",
            "58 s1 1 False\n",
            "59 s0 -100 False\n",
            "60 s1 5 False\n",
            "61 s1 1 False\n",
            "62 s1 1 False\n",
            "63 s0 -100 False\n",
            "64 s0 1 False\n",
            "65 s0 5 False\n",
            "66 s0 1 False\n",
            "67 s0 1 False\n",
            "68 s0 5 False\n",
            "69 s0 1 False\n",
            "70 s0 1 False\n",
            "71 s0 1 False\n",
            "72 s0 1 False\n",
            "73 s0 5 False\n",
            "74 s0 1 False\n",
            "75 s0 1 False\n",
            "76 s0 5 False\n",
            "77 s0 1 False\n",
            "78 s0 5 False\n",
            "79 s0 1 False\n",
            "80 s0 1 False\n",
            "81 s1 5 False\n",
            "82 s0 -100 False\n",
            "83 s1 5 False\n",
            "84 s0 -100 False\n",
            "85 s0 1 False\n",
            "86 s0 5 False\n",
            "87 s0 1 False\n",
            "88 s0 1 False\n",
            "89 s0 1 False\n",
            "90 s0 1 False\n",
            "91 s0 5 False\n",
            "92 s0 5 False\n",
            "93 s0 1 False\n",
            "94 s1 5 False\n",
            "95 s0 -100 False\n",
            "96 s0 1 False\n",
            "97 s0 1 False\n",
            "98 s1 5 False\n",
            "99 s0 -100 False\n",
            "100 s0 1 False\n",
            "101 s0 5 False\n",
            "102 s1 5 False\n",
            "103 s1 1 False\n",
            "104 s0 -100 False\n",
            "105 s0 5 False\n",
            "106 s0 5 False\n",
            "107 s0 5 False\n",
            "108 s0 1 False\n",
            "109 s1 5 False\n",
            "110 s1 1 False\n",
            "111 s1 1 False\n",
            "112 s0 -100 False\n",
            "113 s0 1 False\n",
            "114 s0 5 False\n",
            "115 s0 5 False\n",
            "116 s0 1 False\n",
            "117 s0 1 False\n",
            "118 s1 5 False\n",
            "119 s1 1 False\n",
            "120 s0 -100 False\n",
            "121 s0 1 False\n",
            "122 s0 1 False\n",
            "123 s0 5 False\n",
            "124 s0 1 False\n",
            "125 s0 5 False\n",
            "126 s0 5 False\n",
            "127 s0 1 False\n",
            "128 s1 5 False\n",
            "129 s1 1 False\n",
            "130 s0 -100 False\n",
            "131 s0 1 False\n",
            "132 s0 1 False\n",
            "133 s0 1 False\n",
            "134 s0 1 False\n",
            "135 s0 5 False\n",
            "136 s0 5 False\n",
            "137 s0 1 False\n",
            "138 s0 1 False\n",
            "139 s1 5 False\n",
            "140 s0 -100 False\n",
            "141 s0 1 False\n",
            "142 s0 1 False\n",
            "143 s0 1 False\n",
            "144 s0 1 False\n",
            "145 s0 1 False\n",
            "146 s1 5 False\n",
            "147 s1 1 False\n",
            "148 s0 -100 False\n",
            "149 s1 5 False\n",
            "150 s1 1 False\n",
            "151 s1 1 False\n",
            "152 s0 -100 False\n",
            "153 s0 1 False\n",
            "154 s0 1 False\n",
            "155 s0 1 False\n",
            "156 s0 5 False\n",
            "157 s1 5 False\n",
            "158 s1 1 False\n",
            "159 s1 1 False\n",
            "160 s0 -100 False\n",
            "161 s0 1 False\n",
            "162 s1 5 False\n",
            "163 s0 -100 False\n",
            "164 s0 1 False\n",
            "165 s0 5 False\n",
            "166 s0 1 False\n",
            "167 s1 5 False\n",
            "168 s1 1 False\n",
            "169 s1 1 False\n",
            "170 s0 -100 False\n",
            "171 s1 5 False\n",
            "172 s0 -100 False\n",
            "173 s0 1 False\n",
            "174 s0 5 False\n",
            "175 s1 5 False\n",
            "176 s1 1 False\n",
            "177 s0 -100 False\n",
            "178 s0 1 False\n",
            "179 s0 1 False\n",
            "180 s0 5 False\n",
            "181 s1 5 False\n",
            "182 s0 -100 False\n",
            "183 s0 5 False\n",
            "184 s0 1 False\n",
            "185 s1 5 False\n",
            "186 s1 1 False\n",
            "187 s0 -100 False\n",
            "188 s1 5 False\n",
            "189 s0 -100 False\n",
            "190 s1 5 False\n",
            "191 s1 1 False\n",
            "192 s1 1 False\n",
            "193 s0 -100 False\n",
            "194 s1 5 False\n",
            "195 s1 5 False\n",
            "196 s0 -100 False\n",
            "197 s0 1 False\n",
            "198 s1 5 False\n",
            "199 s0 -100 False\n"
          ],
          "name": "stdout"
        }
      ]
    },
    {
      "cell_type": "code",
      "metadata": {
        "colab": {
          "base_uri": "https://localhost:8080/"
        },
        "id": "jfb1_CF5un0q",
        "outputId": "2554a6df-febd-4eaa-917b-0c16e25d2dcd"
      },
      "source": [
        "state = mdp.reset()\n",
        "\n",
        "for t in range(200):\n",
        "\n",
        "  action = random.choice(mdp.get_possible_actions(state))\n",
        "  observation, reward, done, info = mdp.step(action)\n",
        "  state = observation\n",
        "\n",
        "  print(t, observation, reward, done)"
      ],
      "execution_count": 12,
      "outputs": [
        {
          "output_type": "stream",
          "text": [
            "0 s1 5 False\n",
            "1 s0 -100 False\n",
            "2 s1 5 False\n",
            "3 s1 1 False\n",
            "4 s0 0.5 False\n",
            "5 s0 5 False\n",
            "6 s1 5 False\n",
            "7 s0 0.5 False\n",
            "8 s1 5 False\n",
            "9 s1 1 False\n",
            "10 s0 -100 False\n",
            "11 s0 5 False\n",
            "12 s1 5 False\n",
            "13 s0 0.5 False\n",
            "14 s0 5 False\n",
            "15 s1 5 False\n",
            "16 s1 1 False\n",
            "17 s1 1 False\n",
            "18 s1 5 False\n",
            "19 s0 -100 False\n",
            "20 s0 1 False\n",
            "21 s1 5 False\n",
            "22 s1 1 False\n",
            "23 s1 1 False\n",
            "24 s1 1 False\n",
            "25 s1 1 False\n",
            "26 s1 1 False\n",
            "27 s1 1 False\n",
            "28 s0 0.5 False\n",
            "29 s1 5 False\n",
            "30 s0 -100 False\n",
            "31 s1 5 False\n",
            "32 s0 -100 False\n",
            "33 s0 1 False\n",
            "34 s0 1 False\n",
            "35 s0 5 False\n",
            "36 s1 5 False\n",
            "37 s0 0.5 False\n",
            "38 s0 1 False\n",
            "39 s1 5 False\n",
            "40 s1 1 False\n",
            "41 s1 1 False\n",
            "42 s0 -100 False\n",
            "43 s1 5 False\n",
            "44 s1 1 False\n",
            "45 s0 0.5 False\n",
            "46 s0 1 False\n",
            "47 s0 5 False\n",
            "48 s0 1 False\n",
            "49 s0 1 False\n",
            "50 s0 1 False\n",
            "51 s1 5 False\n",
            "52 s1 1 False\n",
            "53 s0 -100 False\n",
            "54 s1 5 False\n",
            "55 s0 -100 False\n",
            "56 s0 1 False\n",
            "57 s0 5 False\n",
            "58 s0 5 False\n",
            "59 s0 5 False\n",
            "60 s0 5 False\n",
            "61 s1 5 False\n",
            "62 s0 0.5 False\n",
            "63 s0 1 False\n",
            "64 s1 5 False\n",
            "65 s0 0.5 False\n",
            "66 s0 1 False\n",
            "67 s0 5 False\n",
            "68 s0 1 False\n",
            "69 s0 1 False\n",
            "70 s0 5 False\n",
            "71 s1 5 False\n",
            "72 s0 -100 False\n",
            "73 s1 5 False\n",
            "74 s0 -100 False\n",
            "75 s1 5 False\n",
            "76 s0 0.5 False\n",
            "77 s0 5 False\n",
            "78 s0 1 False\n",
            "79 s0 1 False\n",
            "80 s0 5 False\n",
            "81 s0 1 False\n",
            "82 s0 1 False\n",
            "83 s0 1 False\n",
            "84 s0 1 False\n",
            "85 s0 1 False\n",
            "86 s0 1 False\n",
            "87 s0 5 False\n",
            "88 s0 5 False\n",
            "89 s1 5 False\n",
            "90 s0 -100 False\n",
            "91 s1 5 False\n",
            "92 s0 -100 False\n",
            "93 s0 1 False\n",
            "94 s0 1 False\n",
            "95 s1 5 False\n",
            "96 s1 1 False\n",
            "97 s0 0.5 False\n",
            "98 s0 1 False\n",
            "99 s0 1 False\n",
            "100 s0 5 False\n",
            "101 s0 1 False\n",
            "102 s0 1 False\n",
            "103 s1 5 False\n",
            "104 s0 0.5 False\n",
            "105 s0 1 False\n",
            "106 s0 1 False\n",
            "107 s0 1 False\n",
            "108 s0 1 False\n",
            "109 s0 1 False\n",
            "110 s1 5 False\n",
            "111 s0 0.5 False\n",
            "112 s0 5 False\n",
            "113 s0 5 False\n",
            "114 s0 5 False\n",
            "115 s0 1 False\n",
            "116 s0 5 False\n",
            "117 s0 1 False\n",
            "118 s0 5 False\n",
            "119 s0 5 False\n",
            "120 s0 5 False\n",
            "121 s0 1 False\n",
            "122 s0 5 False\n",
            "123 s1 5 False\n",
            "124 s1 1 False\n",
            "125 s0 0.5 False\n",
            "126 s0 5 False\n",
            "127 s1 5 False\n",
            "128 s0 0.5 False\n",
            "129 s0 1 False\n",
            "130 s0 1 False\n",
            "131 s0 1 False\n",
            "132 s0 1 False\n",
            "133 s0 1 False\n",
            "134 s0 1 False\n",
            "135 s0 1 False\n",
            "136 s0 1 False\n",
            "137 s0 1 False\n",
            "138 s0 1 False\n",
            "139 s1 5 False\n",
            "140 s1 1 False\n",
            "141 s0 0.5 False\n",
            "142 s1 5 False\n",
            "143 s0 0.5 False\n",
            "144 s0 1 False\n",
            "145 s1 5 False\n",
            "146 s0 0.5 False\n",
            "147 s1 5 False\n",
            "148 s1 1 False\n",
            "149 s1 1 False\n",
            "150 s0 0.5 False\n",
            "151 s1 5 False\n",
            "152 s0 -100 False\n",
            "153 s0 5 False\n",
            "154 s1 5 False\n",
            "155 s0 -100 False\n",
            "156 s0 5 False\n",
            "157 s0 5 False\n",
            "158 s0 5 False\n",
            "159 s0 1 False\n",
            "160 s0 1 False\n",
            "161 s0 5 False\n",
            "162 s0 1 False\n",
            "163 s0 1 False\n",
            "164 s1 5 False\n",
            "165 s1 5 False\n",
            "166 s0 0.5 False\n",
            "167 s0 1 False\n",
            "168 s0 1 False\n",
            "169 s0 1 False\n",
            "170 s1 5 False\n",
            "171 s0 0.5 False\n",
            "172 s1 5 False\n",
            "173 s0 -100 False\n",
            "174 s1 5 False\n",
            "175 s0 -100 False\n",
            "176 s0 1 False\n",
            "177 s1 5 False\n",
            "178 s0 0.5 False\n",
            "179 s0 1 False\n",
            "180 s0 1 False\n",
            "181 s1 5 False\n",
            "182 s0 0.5 False\n",
            "183 s0 1 False\n",
            "184 s0 1 False\n",
            "185 s0 1 False\n",
            "186 s1 5 False\n",
            "187 s1 1 False\n",
            "188 s0 -100 False\n",
            "189 s0 5 False\n",
            "190 s0 5 False\n",
            "191 s0 1 False\n",
            "192 s1 5 False\n",
            "193 s1 1 False\n",
            "194 s0 0.5 False\n",
            "195 s0 5 False\n",
            "196 s0 5 False\n",
            "197 s1 5 False\n",
            "198 s0 -100 False\n",
            "199 s0 1 False\n"
          ],
          "name": "stdout"
        }
      ]
    },
    {
      "cell_type": "code",
      "metadata": {
        "id": "JhkgJps0u5we"
      },
      "source": [
        "def get_action_value(mdp, state_values, state, action, gamma):\n",
        "  Q = 0.\n",
        "\n",
        "  for next_state in mdp.get_next_states(state, action):\n",
        "    \n",
        "    prob = mdp.get_transition_prob(state, action, next_state)\n",
        "    reward = mdp.get_reward(state, action, next_state)\n",
        "    Q += prob * (reward + (gamma * state_values[next_state]))\n",
        "\n",
        "  return Q"
      ],
      "execution_count": 13,
      "outputs": []
    },
    {
      "cell_type": "code",
      "metadata": {
        "id": "CH4cvAOUu5ur"
      },
      "source": [
        "def get_new_state_value(mdp, state_values, state, gamma):\n",
        "  \n",
        "  if mdp.is_terminal(state):\n",
        "    return 0\n",
        "\n",
        "  return max([get_action_value(mdp, state_values, state, action, gamma) for action in mdp.get_possible_actions(state)])"
      ],
      "execution_count": 14,
      "outputs": []
    },
    {
      "cell_type": "code",
      "metadata": {
        "colab": {
          "base_uri": "https://localhost:8080/"
        },
        "id": "dG0pR7Oeu5s-",
        "outputId": "e8dfdfc9-8886-45a2-c522-d93f04b17d18"
      },
      "source": [
        "gamma = 0.9\n",
        "num_iter = 100\n",
        "min_diff = 0.001\n",
        "\n",
        "state_values = {s: 0 for s in mdp.get_all_states()}\n",
        "\n",
        "for t in range(num_iter):\n",
        "\n",
        "    new_state_values = {state: get_new_state_value(mdp, state_values, state, gamma) for state in mdp.get_all_states()}\n",
        "\n",
        "    diff = max(abs(new_state_values[s] - state_values[s]) for s in mdp.get_all_states())\n",
        "\n",
        "    print(t, diff, state_values)\n",
        "\n",
        "    state_values = new_state_values\n",
        "\n",
        "    if diff < min_diff:\n",
        "        break"
      ],
      "execution_count": 15,
      "outputs": [
        {
          "output_type": "stream",
          "text": [
            "0 5.0 {'s0': 0, 's1': 0}\n",
            "1 4.0 {'s0': 5.0, 's1': 1.0}\n",
            "2 3.0149999999999997 {'s0': 7.7, 's1': 5.0}\n",
            "3 2.713499999999999 {'s0': 10.715, 's1': 7.430000000000001}\n",
            "4 2.3236875 {'s0': 13.16525, 's1': 10.1435}\n",
            "5 2.091318750000001 {'s0': 15.4889375, 's1': 12.348725}\n",
            "6 1.858198218750001 {'s0': 17.526948125, 's1': 14.440043750000001}\n",
            "7 1.6723783968750006 {'s0': 19.38514634375, 's1': 16.2742533125}\n",
            "8 1.5002828542968771 {'s0': 21.0467298453125, 's1': 17.946631709375}\n",
            "9 1.3502545688671894 {'s0': 22.547012699609375, 's1': 19.44205686078125}\n",
            "10 1.2142454271451157 {'s0': 23.895081302175782, 's1': 20.79231142964844}\n",
            "11 1.0928208844306049 {'s0': 25.109326729320898, 's1': 22.005573171958204}\n",
            "12 0.9833395998083851 {'s0': 26.201704955575597, 's1': 23.09839405638881}\n",
            "13 0.885005639827547 {'s0': 27.185044555383982, 's1': 24.081534460018037}\n",
            "14 0.7964647386185142 {'s0': 28.06996055693091, 's1': 24.966540099845584}\n",
            "15 0.7168182647566645 {'s0': 28.866425295549423, 's1': 25.762964501237818}\n",
            "16 0.6451282699926715 {'s0': 29.58322540855426, 's1': 26.479782765994482}\n",
            "17 0.5806154429934054 {'s0': 30.22835367854693, 's1': 27.124902867698832}\n",
            "18 0.5225522446156781 {'s0': 30.808965445810596, 's1': 27.705518310692238}\n",
            "19 0.4702970201541099 {'s0': 31.331517690426274, 's1': 28.228068901229538}\n",
            "20 0.42326698318782974 {'s0': 31.801813966245113, 's1': 28.698365921383648}\n",
            "21 0.3809402848690482 {'s0': 32.22508094943294, 's1': 29.1216325696206}\n",
            "22 0.3428461885545957 {'s0': 32.60602108357409, 's1': 29.50257285448965}\n",
            "23 0.3085615696991333 {'s0': 32.94886727212869, 's1': 29.845418975216685}\n",
            "24 0.2777053989941436 {'s0': 33.25742881130542, 's1': 30.153980544915818}\n",
            "25 0.24993485909472923 {'s0': 33.53513421029956, 's1': 30.431685930174876}\n",
            "26 0.22494137040389717 {'s0': 33.7850690632135, 's1': 30.681620789269605}\n",
            "27 0.20244723336350745 {'s0': 34.010010433617396, 's1': 30.90656215689215}\n",
            "28 0.18220250946393435 {'s0': 34.212457665729296, 's1': 31.109009390255657}\n",
            "29 0.16398225851754233 {'s0': 34.39466017519323, 's1': 31.291211899156366}\n",
            "30 0.1475840325517339 {'s0': 34.55864243345732, 's1': 31.45519415767391}\n",
            "31 0.13282562929656194 {'s0': 34.706226466009056, 's1': 31.60277819011159}\n",
            "32 0.11954306634380885 {'s0': 34.83905209525429, 's1': 31.73560381940815}\n",
            "33 0.10758875970942938 {'s0': 34.9585951615981, 's1': 31.85514688572886}\n",
            "34 0.09682988373380397 {'s0': 35.06618392129713, 's1': 31.96273564543829}\n",
            "35 0.08714689536042641 {'s0': 35.163013805030936, 's1': 32.059565529167415}\n",
            "36 0.07843220582343235 {'s0': 35.25016070038926, 's1': 32.14671242452784}\n",
            "37 0.0705889852410948 {'s0': 35.32859290621269, 's1': 32.22514463035033}\n",
            "38 0.06353008671679561 {'s0': 35.39918189145336, 's1': 32.29573361559142}\n",
            "39 0.05717707804511463 {'s0': 35.462711978170155, 's1': 32.35926370230803}\n",
            "40 0.05145937024055769 {'s0': 35.519889056215185, 's1': 32.41644078035314}\n",
            "41 0.04631343321650405 {'s0': 35.57134842645574, 's1': 32.467900150593664}\n",
            "42 0.04168208989484867 {'s0': 35.61766185967224, 's1': 32.51421358381017}\n",
            "43 0.03751388090536523 {'s0': 35.65934394956709, 's1': 32.55589567370502}\n",
            "44 0.033762492814830125 {'s0': 35.69685783047245, 's1': 32.59340955461038}\n",
            "45 0.03038624353334285 {'s0': 35.73062032328728, 's1': 32.62717204742521}\n",
            "46 0.027347619180012828 {'s0': 35.761006566820626, 's1': 32.657558290958555}\n",
            "47 0.02461285726200657 {'s0': 35.78835418600063, 's1': 32.68490591013857}\n",
            "48 0.022151571535808046 {'s0': 35.81296704326264, 's1': 32.70951876740057}\n",
            "49 0.019936414382229373 {'s0': 35.835118614798446, 's1': 32.731670338936375}\n",
            "50 0.017942772944003593 {'s0': 35.855055029180676, 's1': 32.751606753318605}\n",
            "51 0.016148495649602523 {'s0': 35.87299780212467, 's1': 32.76954952626261}\n",
            "52 0.014533646084643692 {'s0': 35.889146297774275, 's1': 32.785698021912204}\n",
            "53 0.013080281476177902 {'s0': 35.90367994385892, 's1': 32.80023166799685}\n",
            "54 0.011772253328565796 {'s0': 35.916760225335096, 's1': 32.813311949473025}\n",
            "55 0.010595027995705664 {'s0': 35.928532478663655, 's1': 32.82508420280159}\n",
            "56 0.009535525196135097 {'s0': 35.93912750665936, 's1': 32.83567923079729}\n",
            "57 0.00858197267652372 {'s0': 35.94866303185549, 's1': 32.845214755993425}\n",
            "58 0.007723775408869926 {'s0': 35.95724500453201, 's1': 32.85379672866994}\n",
            "59 0.006951397867986486 {'s0': 35.964968779940875, 's1': 32.86152050407881}\n",
            "60 0.006256258081187127 {'s0': 35.97192017780886, 's1': 32.86847190194679}\n",
            "61 0.005630632273067704 {'s0': 35.97817643589005, 's1': 32.87472816002798}\n",
            "62 0.005067569045763776 {'s0': 35.98380706816312, 's1': 32.880358792301045}\n",
            "63 0.004560812141185977 {'s0': 35.98887463720888, 's1': 32.88542636134681}\n",
            "64 0.00410473092706809 {'s0': 35.99343544935006, 's1': 32.889987173487995}\n",
            "65 0.003694257834361281 {'s0': 35.99754018027713, 's1': 32.894091904415056}\n",
            "66 0.0033248320509216 {'s0': 36.00123443811148, 's1': 32.89778616224942}\n",
            "67 0.00299234884582944 {'s0': 36.0045592701624, 's1': 32.90111099430033}\n",
            "68 0.0026931139612500488 {'s0': 36.00755161900823, 's1': 32.90410334314616}\n",
            "69 0.0024238025651257544 {'s0': 36.01024473296948, 's1': 32.90679645710741}\n",
            "70 0.0021814223086096263 {'s0': 36.0126685355346, 's1': 32.90922025967254}\n",
            "71 0.001963280077752927 {'s0': 36.01484995784321, 's1': 32.91140168198114}\n",
            "72 0.0017669520699783448 {'s0': 36.01681323792096, 's1': 32.91336496205889}\n",
            "73 0.0015902568629755365 {'s0': 36.018580189990935, 's1': 32.915131914128864}\n",
            "74 0.0014312311766815355 {'s0': 36.02017044685391, 's1': 32.91672217099184}\n",
            "75 0.001288108059014803 {'s0': 36.02160167803059, 's1': 32.91815340216852}\n",
            "76 0.0011592972531104806 {'s0': 36.02288978608961, 's1': 32.919441510227536}\n",
            "77 0.0010433675277994325 {'s0': 36.02404908334272, 's1': 32.920600807480646}\n",
            "78 0.0009390307750223315 {'s0': 36.02509245087052, 's1': 32.921644175008446}\n"
          ],
          "name": "stdout"
        }
      ]
    },
    {
      "cell_type": "code",
      "metadata": {
        "colab": {
          "base_uri": "https://localhost:8080/",
          "height": 318
        },
        "id": "W9RqTzxSu5rK",
        "outputId": "7d999afa-3e0d-44e6-e952-bea7f49dc077"
      },
      "source": [
        "if has_graphviz:\n",
        "  from mdp import plot_graph_with_state_values\n",
        "  display(plot_graph_with_state_values(mdp, state_values))"
      ],
      "execution_count": 16,
      "outputs": [
        {
          "output_type": "display_data",
          "data": {
            "text/plain": [
              "<graphviz.dot.Digraph at 0x7f4d633b5bd0>"
            ],
            "image/svg+xml": "<?xml version=\"1.0\" encoding=\"UTF-8\" standalone=\"no\"?>\n<!DOCTYPE svg PUBLIC \"-//W3C//DTD SVG 1.1//EN\"\n \"http://www.w3.org/Graphics/SVG/1.1/DTD/svg11.dtd\">\n<!-- Generated by graphviz version 2.40.1 (20161225.0304)\n -->\n<!-- Title: MDP Pages: 1 -->\n<svg width=\"720pt\" height=\"223pt\"\n viewBox=\"0.00 0.00 720.00 223.19\" xmlns=\"http://www.w3.org/2000/svg\" xmlns:xlink=\"http://www.w3.org/1999/xlink\">\n<g id=\"graph0\" class=\"graph\" transform=\"scale(.75 .75) rotate(0) translate(4 293.5772)\">\n<title>MDP</title>\n<polygon fill=\"#ffffff\" stroke=\"transparent\" points=\"-4,4 -4,-293.5772 955.9798,-293.5772 955.9798,4 -4,4\"/>\n<!-- s0 -->\n<g id=\"node1\" class=\"node\">\n<title>s0</title>\n<ellipse fill=\"#85ff75\" stroke=\"#85ff75\" cx=\"75.4178\" cy=\"-96.5772\" rx=\"71.34\" ry=\"71.34\"/>\n<ellipse fill=\"none\" stroke=\"#85ff75\" cx=\"75.4178\" cy=\"-96.5772\" rx=\"75.3357\" ry=\"75.3357\"/>\n<text text-anchor=\"middle\" x=\"75.4178\" y=\"-103.3772\" font-family=\"Arial\" font-size=\"24.00\" fill=\"#000000\">s0</text>\n<text text-anchor=\"middle\" x=\"75.4178\" y=\"-77.3772\" font-family=\"Arial\" font-size=\"24.00\" fill=\"#000000\">V =36.0</text>\n</g>\n<!-- s0&#45;a0 -->\n<g id=\"node2\" class=\"node\">\n<title>s0&#45;a0</title>\n<ellipse fill=\"#ffb6c1\" stroke=\"#ffb6c1\" cx=\"344.4127\" cy=\"-142.5772\" rx=\"27.6545\" ry=\"27.6545\"/>\n<text text-anchor=\"middle\" x=\"344.4127\" y=\"-137.5772\" font-family=\"Arial\" font-size=\"20.00\" fill=\"#000000\">a0</text>\n</g>\n<!-- s0&#45;&gt;s0&#45;a0 -->\n<g id=\"edge1\" class=\"edge\">\n<title>s0&#45;&gt;s0&#45;a0</title>\n<path fill=\"none\" stroke=\"#ff0000\" stroke-width=\"2\" d=\"M150.8572,-100.5212C194.6218,-104.0858 250.4763,-110.8358 298.8356,-123.5772 302.4468,-124.5286 306.1488,-125.7065 309.8061,-127.0061\"/>\n<polygon fill=\"#ff0000\" stroke=\"#ff0000\" stroke-width=\"2\" points=\"308.6998,-130.3306 319.2896,-130.6587 311.2158,-123.7983 308.6998,-130.3306\"/>\n</g>\n<!-- s0&#45;a1 -->\n<g id=\"node4\" class=\"node\">\n<title>s0&#45;a1</title>\n<ellipse fill=\"#ffb6c1\" stroke=\"#ffb6c1\" cx=\"344.4127\" cy=\"-27.5772\" rx=\"27.6545\" ry=\"27.6545\"/>\n<text text-anchor=\"middle\" x=\"344.4127\" y=\"-22.5772\" font-family=\"Arial\" font-size=\"20.00\" fill=\"#000000\">a1</text>\n</g>\n<!-- s0&#45;&gt;s0&#45;a1 -->\n<g id=\"edge4\" class=\"edge\">\n<title>s0&#45;&gt;s0&#45;a1</title>\n<path fill=\"none\" stroke=\"#ff0000\" stroke-width=\"2\" d=\"M148.8024,-78.2944C155.5692,-76.6736 162.3256,-75.0793 168.8356,-73.5772 226.4251,-60.2888 242.2711,-62.7119 298.8356,-45.5772 302.1942,-44.5598 305.6538,-43.4029 309.0946,-42.1779\"/>\n<polygon fill=\"#ff0000\" stroke=\"#ff0000\" stroke-width=\"2\" points=\"310.5038,-45.3876 318.6426,-38.6045 308.0502,-38.8317 310.5038,-45.3876\"/>\n</g>\n<!-- s0&#45;a0&#45;&gt;s0 -->\n<g id=\"edge2\" class=\"edge\">\n<title>s0&#45;a0&#45;&gt;s0</title>\n<path fill=\"none\" stroke=\"#0000ff\" stroke-dasharray=\"5,2\" d=\"M316.8733,-140.2164C282.1583,-136.9911 220.7432,-130.4557 168.8356,-120.5772 165.4004,-119.9234 161.904,-119.2166 158.3793,-118.4698\"/>\n<polygon fill=\"#0000ff\" stroke=\"#0000ff\" points=\"158.9172,-115.0044 148.3982,-116.2698 157.4105,-121.8403 158.9172,-115.0044\"/>\n<text text-anchor=\"middle\" x=\"233.8356\" y=\"-142.7772\" font-family=\"Arial\" font-size=\"16.00\" fill=\"#000000\">p = 0.5 &#160;reward =5</text>\n</g>\n<!-- s1 -->\n<g id=\"node3\" class=\"node\">\n<title>s1</title>\n<ellipse fill=\"#85ff75\" stroke=\"#85ff75\" cx=\"646.4077\" cy=\"-187.5772\" rx=\"71.34\" ry=\"71.34\"/>\n<ellipse fill=\"none\" stroke=\"#85ff75\" cx=\"646.4077\" cy=\"-187.5772\" rx=\"75.3357\" ry=\"75.3357\"/>\n<text text-anchor=\"middle\" x=\"646.4077\" y=\"-194.3772\" font-family=\"Arial\" font-size=\"24.00\" fill=\"#000000\">s1</text>\n<text text-anchor=\"middle\" x=\"646.4077\" y=\"-168.3772\" font-family=\"Arial\" font-size=\"24.00\" fill=\"#000000\">V =32.9</text>\n</g>\n<!-- s0&#45;a0&#45;&gt;s1 -->\n<g id=\"edge3\" class=\"edge\">\n<title>s0&#45;a0&#45;&gt;s1</title>\n<path fill=\"none\" stroke=\"#0000ff\" stroke-dasharray=\"5,2\" d=\"M371.7454,-146.65C414.1939,-152.9752 497.7207,-165.4214 561.5725,-174.936\"/>\n<polygon fill=\"#0000ff\" stroke=\"#0000ff\" points=\"561.2354,-178.4243 571.6421,-176.4364 562.2672,-171.5007 561.2354,-178.4243\"/>\n<text text-anchor=\"middle\" x=\"471.4899\" y=\"-177.7772\" font-family=\"Arial\" font-size=\"16.00\" fill=\"#000000\">p = 0.5 &#160;reward =5</text>\n</g>\n<!-- s1&#45;a0 -->\n<g id=\"node5\" class=\"node\">\n<title>s1&#45;a0</title>\n<ellipse fill=\"#ffb6c1\" stroke=\"#ffb6c1\" cx=\"924.4026\" cy=\"-253.5772\" rx=\"27.6545\" ry=\"27.6545\"/>\n<text text-anchor=\"middle\" x=\"924.4026\" y=\"-248.5772\" font-family=\"Arial\" font-size=\"20.00\" fill=\"#000000\">a0</text>\n</g>\n<!-- s1&#45;&gt;s1&#45;a0 -->\n<g id=\"edge6\" class=\"edge\">\n<title>s1&#45;&gt;s1&#45;a0</title>\n<path fill=\"none\" stroke=\"#ff0000\" stroke-width=\"2\" d=\"M710.4011,-227.8509C719.9803,-232.4907 729.9593,-236.6134 739.8255,-239.5772 789.0583,-254.3663 848.8304,-256.1396 886.7487,-255.3887\"/>\n<polygon fill=\"#ff0000\" stroke=\"#ff0000\" stroke-width=\"2\" points=\"886.9344,-258.8851 896.8371,-255.1187 886.7471,-251.8876 886.9344,-258.8851\"/>\n</g>\n<!-- s1&#45;a1 -->\n<g id=\"node6\" class=\"node\">\n<title>s1&#45;a1</title>\n<ellipse fill=\"#ffb6c1\" stroke=\"#ffb6c1\" cx=\"924.4026\" cy=\"-174.5772\" rx=\"27.6545\" ry=\"27.6545\"/>\n<text text-anchor=\"middle\" x=\"924.4026\" y=\"-169.5772\" font-family=\"Arial\" font-size=\"20.00\" fill=\"#000000\">a1</text>\n</g>\n<!-- s1&#45;&gt;s1&#45;a1 -->\n<g id=\"edge9\" class=\"edge\">\n<title>s1&#45;&gt;s1&#45;a1</title>\n<path fill=\"none\" stroke=\"#ff0000\" stroke-width=\"2\" d=\"M722.0038,-184.042C775.363,-181.5468 844.5868,-178.3096 886.6895,-176.3408\"/>\n<polygon fill=\"#ff0000\" stroke=\"#ff0000\" stroke-width=\"2\" points=\"886.9575,-179.8321 896.7831,-175.8688 886.6305,-172.8398 886.9575,-179.8321\"/>\n</g>\n<!-- s1&#45;a2 -->\n<g id=\"node7\" class=\"node\">\n<title>s1&#45;a2</title>\n<ellipse fill=\"#ffb6c1\" stroke=\"#ffb6c1\" cx=\"924.4026\" cy=\"-90.5772\" rx=\"27.6545\" ry=\"27.6545\"/>\n<text text-anchor=\"middle\" x=\"924.4026\" y=\"-85.5772\" font-family=\"Arial\" font-size=\"20.00\" fill=\"#000000\">a2</text>\n</g>\n<!-- s1&#45;&gt;s1&#45;a2 -->\n<g id=\"edge11\" class=\"edge\">\n<title>s1&#45;&gt;s1&#45;a2</title>\n<path fill=\"none\" stroke=\"#ff0000\" stroke-width=\"2\" d=\"M713.3466,-152.7512C722.1427,-148.7283 731.1239,-144.888 739.8255,-141.5772 789.6709,-122.6118 849.5244,-107.389 887.2705,-98.6654\"/>\n<polygon fill=\"#ff0000\" stroke=\"#ff0000\" stroke-width=\"2\" points=\"888.3312,-102.0135 897.3039,-96.3795 886.7763,-95.1884 888.3312,-102.0135\"/>\n</g>\n<!-- s0&#45;a1&#45;&gt;s0 -->\n<g id=\"edge5\" class=\"edge\">\n<title>s0&#45;a1&#45;&gt;s0</title>\n<path fill=\"none\" stroke=\"#0000ff\" stroke-dasharray=\"5,2\" d=\"M317.3501,-21.2917C282.0826,-14.3585 218.9971,-6.3026 168.8356,-23.5772 158.2992,-27.2057 148.0411,-32.5645 138.4149,-38.7594\"/>\n<polygon fill=\"#0000ff\" stroke=\"#0000ff\" points=\"136.4275,-35.8783 130.1271,-44.3962 140.3642,-41.6664 136.4275,-35.8783\"/>\n<text text-anchor=\"middle\" x=\"233.8356\" y=\"-28.7772\" font-family=\"Arial\" font-size=\"16.00\" fill=\"#000000\">p = 1 &#160;reward =1</text>\n</g>\n<!-- s1&#45;a0&#45;&gt;s0 -->\n<g id=\"edge7\" class=\"edge\">\n<title>s1&#45;a0&#45;&gt;s0</title>\n<path fill=\"none\" stroke=\"#0000ff\" stroke-dasharray=\"5,2\" d=\"M896.9759,-258.164C891.005,-259.0578 884.713,-259.9199 878.8255,-260.5772 809.3084,-268.3375 791.7315,-269.1312 721.8255,-271.5772 471.2153,-280.3458 396.5117,-264.6767 168.8356,-159.5772 160.7489,-155.8442 152.5836,-151.4462 144.6236,-146.7379\"/>\n<polygon fill=\"#0000ff\" stroke=\"#0000ff\" points=\"146.4393,-143.7457 136.0801,-141.5238 142.7927,-149.7208 146.4393,-143.7457\"/>\n<text text-anchor=\"middle\" x=\"471.4899\" y=\"-276.7772\" font-family=\"Arial\" font-size=\"16.00\" fill=\"#000000\">p = 0.95 &#160;reward =&#45;100</text>\n</g>\n<!-- s1&#45;a0&#45;&gt;s1 -->\n<g id=\"edge8\" class=\"edge\">\n<title>s1&#45;a0&#45;&gt;s1</title>\n<path fill=\"none\" stroke=\"#0000ff\" stroke-dasharray=\"5,2\" d=\"M904.6088,-234.1234C897.1064,-227.8384 888.1189,-221.4894 878.8255,-217.5772 852.8353,-206.6361 786.8439,-198.7476 731.7927,-193.8139\"/>\n<polygon fill=\"#0000ff\" stroke=\"#0000ff\" points=\"731.9198,-190.3118 721.6529,-192.927 731.3098,-197.2851 731.9198,-190.3118\"/>\n<text text-anchor=\"middle\" x=\"809.3255\" y=\"-222.7772\" font-family=\"Arial\" font-size=\"16.00\" fill=\"#000000\">p = 0.05 &#160;reward =5</text>\n</g>\n<!-- s1&#45;a1&#45;&gt;s1 -->\n<g id=\"edge10\" class=\"edge\">\n<title>s1&#45;a1&#45;&gt;s1</title>\n<path fill=\"none\" stroke=\"#0000ff\" stroke-dasharray=\"5,2\" d=\"M899.9469,-161.6419C893.2784,-158.7328 885.9293,-156.0672 878.8255,-154.5772 818.3635,-141.895 800.715,-144.1386 739.8255,-154.5772 735.415,-155.3333 730.9362,-156.2765 726.4484,-157.361\"/>\n<polygon fill=\"#0000ff\" stroke=\"#0000ff\" points=\"725.4134,-154.0142 716.6328,-159.9431 727.1943,-160.7838 725.4134,-154.0142\"/>\n<text text-anchor=\"middle\" x=\"809.3255\" y=\"-159.7772\" font-family=\"Arial\" font-size=\"16.00\" fill=\"#000000\">p = 1 &#160;reward =1</text>\n</g>\n<!-- s1&#45;a2&#45;&gt;s0 -->\n<g id=\"edge12\" class=\"edge\">\n<title>s1&#45;a2&#45;&gt;s0</title>\n<path fill=\"none\" stroke=\"#0000ff\" stroke-dasharray=\"5,2\" d=\"M896.655,-90.7733C782.6708,-91.5788 347.6935,-94.6529 161.1722,-95.9711\"/>\n<polygon fill=\"#0000ff\" stroke=\"#0000ff\" points=\"161.1077,-92.4714 151.1327,-96.0421 161.1572,-99.4712 161.1077,-92.4714\"/>\n<text text-anchor=\"middle\" x=\"471.4899\" y=\"-99.7772\" font-family=\"Arial\" font-size=\"16.00\" fill=\"#000000\">p = 1 &#160;reward =0.5</text>\n</g>\n</g>\n</svg>\n"
          },
          "metadata": {
            "tags": []
          }
        }
      ]
    },
    {
      "cell_type": "code",
      "metadata": {
        "id": "MD9UPzNQuny8"
      },
      "source": [
        "def get_optimal_action(mdp, state_values, state, gamma):\n",
        "    if mdp.is_terminal(state):\n",
        "        return None\n",
        "    \n",
        "    action_values = [get_action_value(mdp, state_values, state, action, gamma) for action in mdp.get_possible_actions(state)]\n",
        "    argmax_index = np.argmax(action_values)\n",
        "    return mdp.get_possible_actions(state)[argmax_index]"
      ],
      "execution_count": 17,
      "outputs": []
    },
    {
      "cell_type": "code",
      "metadata": {
        "colab": {
          "base_uri": "https://localhost:8080/",
          "height": 328
        },
        "id": "UsSFM3iwvA-C",
        "outputId": "0a291414-2c22-4849-8fb2-bd45a8a72b5a"
      },
      "source": [
        "if has_graphviz:\n",
        "    from mdp import plot_graph_optimal_strategy_and_state_values\n",
        "    display(plot_graph_optimal_strategy_and_state_values(mdp, state_values, get_action_value))"
      ],
      "execution_count": 18,
      "outputs": [
        {
          "output_type": "display_data",
          "data": {
            "text/plain": [
              "<graphviz.dot.Digraph at 0x7f4d5998f390>"
            ],
            "image/svg+xml": "<?xml version=\"1.0\" encoding=\"UTF-8\" standalone=\"no\"?>\n<!DOCTYPE svg PUBLIC \"-//W3C//DTD SVG 1.1//EN\"\n \"http://www.w3.org/Graphics/SVG/1.1/DTD/svg11.dtd\">\n<!-- Generated by graphviz version 2.40.1 (20161225.0304)\n -->\n<!-- Title: MDP Pages: 1 -->\n<svg width=\"720pt\" height=\"230pt\"\n viewBox=\"0.00 0.00 720.00 229.62\" xmlns=\"http://www.w3.org/2000/svg\" xmlns:xlink=\"http://www.w3.org/1999/xlink\">\n<g id=\"graph0\" class=\"graph\" transform=\"scale(.75 .75) rotate(0) translate(4 302.1543)\">\n<title>MDP</title>\n<polygon fill=\"#ffffff\" stroke=\"transparent\" points=\"-4,4 -4,-302.1543 955.9798,-302.1543 955.9798,4 -4,4\"/>\n<!-- s0 -->\n<g id=\"node1\" class=\"node\">\n<title>s0</title>\n<ellipse fill=\"#85ff75\" stroke=\"#85ff75\" cx=\"75.4178\" cy=\"-204.5772\" rx=\"71.34\" ry=\"71.34\"/>\n<ellipse fill=\"none\" stroke=\"#85ff75\" cx=\"75.4178\" cy=\"-204.5772\" rx=\"75.3357\" ry=\"75.3357\"/>\n<text text-anchor=\"middle\" x=\"75.4178\" y=\"-211.3772\" font-family=\"Arial\" font-size=\"24.00\" fill=\"#000000\">s0</text>\n<text text-anchor=\"middle\" x=\"75.4178\" y=\"-185.3772\" font-family=\"Arial\" font-size=\"24.00\" fill=\"#000000\">V =36.0</text>\n</g>\n<!-- s0&#45;a0 -->\n<g id=\"node2\" class=\"node\">\n<title>s0&#45;a0</title>\n<ellipse fill=\"#ffb6c1\" stroke=\"#ffb6c1\" cx=\"344.4127\" cy=\"-270.5772\" rx=\"27.6545\" ry=\"27.6545\"/>\n<text text-anchor=\"middle\" x=\"344.4127\" y=\"-265.5772\" font-family=\"Arial\" font-size=\"20.00\" fill=\"#000000\">a0</text>\n</g>\n<!-- s0&#45;&gt;s0&#45;a0 -->\n<g id=\"edge1\" class=\"edge\">\n<title>s0&#45;&gt;s0&#45;a0</title>\n<path fill=\"none\" stroke=\"#ff0000\" stroke-width=\"2\" d=\"M143.3251,-237.7287C151.6934,-241.557 160.3076,-244.9975 168.8356,-247.5772 214.9218,-261.5182 270.7379,-263.6062 306.88,-265.2421\"/>\n<polygon fill=\"#ff0000\" stroke=\"#ff0000\" stroke-width=\"2\" points=\"306.8241,-268.7434 316.9797,-265.7244 307.158,-261.7513 306.8241,-268.7434\"/>\n</g>\n<!-- s0&#45;&gt;s0&#45;a0 -->\n<g id=\"edge13\" class=\"edge\">\n<title>s0&#45;&gt;s0&#45;a0</title>\n<path fill=\"none\" stroke=\"#00ff00\" stroke-width=\"6\" d=\"M134.796,-251.3744C145.7609,-257.09 157.3761,-262.1107 168.8356,-265.5772 215.1882,-279.5988 271.3835,-281.6299 307.5048,-279.0091\"/>\n<polygon fill=\"#00ff00\" stroke=\"#00ff00\" stroke-width=\"6\" points=\"308.0956,-284.2273 317.5861,-278.104 307.1567,-273.7693 308.0956,-284.2273\"/>\n</g>\n<!-- s0&#45;a1 -->\n<g id=\"node4\" class=\"node\">\n<title>s0&#45;a1</title>\n<ellipse fill=\"#ffb6c1\" stroke=\"#ffb6c1\" cx=\"344.4127\" cy=\"-27.5772\" rx=\"27.6545\" ry=\"27.6545\"/>\n<text text-anchor=\"middle\" x=\"344.4127\" y=\"-22.5772\" font-family=\"Arial\" font-size=\"20.00\" fill=\"#000000\">a1</text>\n</g>\n<!-- s0&#45;&gt;s0&#45;a1 -->\n<g id=\"edge4\" class=\"edge\">\n<title>s0&#45;&gt;s0&#45;a1</title>\n<path fill=\"none\" stroke=\"#ff0000\" stroke-width=\"2\" d=\"M109.8773,-137.0725C124.979,-113.6804 144.7966,-89.3864 168.8356,-73.5772 218.2166,-41.1018 242.2711,-62.7119 298.8356,-45.5772 302.1942,-44.5598 305.6538,-43.4029 309.0946,-42.1779\"/>\n<polygon fill=\"#ff0000\" stroke=\"#ff0000\" stroke-width=\"2\" points=\"310.5038,-45.3876 318.6426,-38.6045 308.0502,-38.8317 310.5038,-45.3876\"/>\n</g>\n<!-- s0&#45;a0&#45;&gt;s0 -->\n<g id=\"edge2\" class=\"edge\">\n<title>s0&#45;a0&#45;&gt;s0</title>\n<path fill=\"none\" stroke=\"#0000ff\" stroke-dasharray=\"5,2\" d=\"M324.6078,-251.1498C317.1042,-244.8673 308.119,-238.5131 298.8356,-234.5772 292.276,-231.796 220.8679,-222.4694 160.5209,-214.9452\"/>\n<polygon fill=\"#0000ff\" stroke=\"#0000ff\" points=\"160.9136,-211.4671 150.5582,-213.7067 160.0501,-218.4137 160.9136,-211.4671\"/>\n<text text-anchor=\"middle\" x=\"233.8356\" y=\"-239.7772\" font-family=\"Arial\" font-size=\"16.00\" fill=\"#000000\">p = 0.5 &#160;reward =5</text>\n</g>\n<!-- s1 -->\n<g id=\"node3\" class=\"node\">\n<title>s1</title>\n<ellipse fill=\"#85ff75\" stroke=\"#85ff75\" cx=\"646.4077\" cy=\"-187.5772\" rx=\"71.34\" ry=\"71.34\"/>\n<ellipse fill=\"none\" stroke=\"#85ff75\" cx=\"646.4077\" cy=\"-187.5772\" rx=\"75.3357\" ry=\"75.3357\"/>\n<text text-anchor=\"middle\" x=\"646.4077\" y=\"-194.3772\" font-family=\"Arial\" font-size=\"24.00\" fill=\"#000000\">s1</text>\n<text text-anchor=\"middle\" x=\"646.4077\" y=\"-168.3772\" font-family=\"Arial\" font-size=\"24.00\" fill=\"#000000\">V =32.9</text>\n</g>\n<!-- s0&#45;a0&#45;&gt;s1 -->\n<g id=\"edge3\" class=\"edge\">\n<title>s0&#45;a0&#45;&gt;s1</title>\n<path fill=\"none\" stroke=\"#0000ff\" stroke-dasharray=\"5,2\" d=\"M372.1071,-269.1365C412.7311,-266.3724 490.436,-258.597 552.9899,-237.5772 559.3163,-235.4513 565.7259,-232.9237 572.068,-230.151\"/>\n<polygon fill=\"#0000ff\" stroke=\"#0000ff\" points=\"573.6557,-233.2736 581.294,-225.9315 570.7442,-226.9078 573.6557,-233.2736\"/>\n<text text-anchor=\"middle\" x=\"471.4899\" y=\"-271.7772\" font-family=\"Arial\" font-size=\"16.00\" fill=\"#000000\">p = 0.5 &#160;reward =5</text>\n</g>\n<!-- s1&#45;a0 -->\n<g id=\"node5\" class=\"node\">\n<title>s1&#45;a0</title>\n<ellipse fill=\"#ffb6c1\" stroke=\"#ffb6c1\" cx=\"924.4026\" cy=\"-264.5772\" rx=\"27.6545\" ry=\"27.6545\"/>\n<text text-anchor=\"middle\" x=\"924.4026\" y=\"-259.5772\" font-family=\"Arial\" font-size=\"20.00\" fill=\"#000000\">a0</text>\n</g>\n<!-- s1&#45;&gt;s1&#45;a0 -->\n<g id=\"edge6\" class=\"edge\">\n<title>s1&#45;&gt;s1&#45;a0</title>\n<path fill=\"none\" stroke=\"#ff0000\" stroke-width=\"2\" d=\"M705.7883,-234.1097C716.6157,-240.661 728.1847,-246.5311 739.8255,-250.5772 788.3821,-267.4545 848.323,-268.7064 886.4632,-267.2704\"/>\n<polygon fill=\"#ff0000\" stroke=\"#ff0000\" stroke-width=\"2\" points=\"886.7858,-270.7594 896.615,-266.8048 886.4651,-263.7667 886.7858,-270.7594\"/>\n</g>\n<!-- s1&#45;a1 -->\n<g id=\"node6\" class=\"node\">\n<title>s1&#45;a1</title>\n<ellipse fill=\"#ffb6c1\" stroke=\"#ffb6c1\" cx=\"924.4026\" cy=\"-191.5772\" rx=\"27.6545\" ry=\"27.6545\"/>\n<text text-anchor=\"middle\" x=\"924.4026\" y=\"-186.5772\" font-family=\"Arial\" font-size=\"20.00\" fill=\"#000000\">a1</text>\n</g>\n<!-- s1&#45;&gt;s1&#45;a1 -->\n<g id=\"edge9\" class=\"edge\">\n<title>s1&#45;&gt;s1&#45;a1</title>\n<path fill=\"none\" stroke=\"#ff0000\" stroke-width=\"2\" d=\"M722.0038,-188.6649C775.363,-189.4327 844.5868,-190.4287 886.6895,-191.0345\"/>\n<polygon fill=\"#ff0000\" stroke=\"#ff0000\" stroke-width=\"2\" points=\"886.7337,-194.5354 896.7831,-191.1798 886.8345,-187.5361 886.7337,-194.5354\"/>\n</g>\n<!-- s1&#45;a2 -->\n<g id=\"node7\" class=\"node\">\n<title>s1&#45;a2</title>\n<ellipse fill=\"#ffb6c1\" stroke=\"#ffb6c1\" cx=\"924.4026\" cy=\"-118.5772\" rx=\"27.6545\" ry=\"27.6545\"/>\n<text text-anchor=\"middle\" x=\"924.4026\" y=\"-113.5772\" font-family=\"Arial\" font-size=\"20.00\" fill=\"#000000\">a2</text>\n</g>\n<!-- s1&#45;&gt;s1&#45;a2 -->\n<g id=\"edge11\" class=\"edge\">\n<title>s1&#45;&gt;s1&#45;a2</title>\n<path fill=\"none\" stroke=\"#ff0000\" stroke-width=\"2\" d=\"M713.8982,-153.4933C722.563,-150.5814 731.3619,-147.884 739.8255,-145.5772 789.9243,-131.9223 849.0166,-121.3389 886.5902,-117.4393\"/>\n<polygon fill=\"#ff0000\" stroke=\"#ff0000\" stroke-width=\"2\" points=\"886.9544,-120.9206 896.5919,-116.5196 886.3134,-113.95 886.9544,-120.9206\"/>\n</g>\n<!-- s1&#45;&gt;s1&#45;a2 -->\n<g id=\"edge14\" class=\"edge\">\n<title>s1&#45;&gt;s1&#45;a2</title>\n<path fill=\"none\" stroke=\"#00ff00\" stroke-width=\"6\" d=\"M719.7748,-169.4921C726.5141,-167.3848 733.2704,-165.3638 739.8255,-163.5772 790.788,-149.6869 851.057,-138.9748 888.5143,-130.6999\"/>\n<polygon fill=\"#00ff00\" stroke=\"#00ff00\" stroke-width=\"6\" points=\"889.8685,-135.7759 898.4476,-128.43 887.5293,-125.5398 889.8685,-135.7759\"/>\n</g>\n<!-- s0&#45;a1&#45;&gt;s0 -->\n<g id=\"edge5\" class=\"edge\">\n<title>s0&#45;a1&#45;&gt;s0</title>\n<path fill=\"none\" stroke=\"#0000ff\" stroke-dasharray=\"5,2\" d=\"M318.0473,-18.7368C281.5887,-8.232 215.054,4.5798 168.8356,-23.5772 133.49,-45.1102 110.9373,-84.7872 96.8679,-121.5166\"/>\n<polygon fill=\"#0000ff\" stroke=\"#0000ff\" points=\"93.4457,-120.6838 93.2962,-131.2776 100.0195,-123.0892 93.4457,-120.6838\"/>\n<text text-anchor=\"middle\" x=\"233.8356\" y=\"-28.7772\" font-family=\"Arial\" font-size=\"16.00\" fill=\"#000000\">p = 1 &#160;reward =1</text>\n</g>\n<!-- s1&#45;a0&#45;&gt;s0 -->\n<g id=\"edge7\" class=\"edge\">\n<title>s1&#45;a0&#45;&gt;s0</title>\n<path fill=\"none\" stroke=\"#0000ff\" stroke-dasharray=\"5,2\" d=\"M897.0289,-270.1761C891.0548,-271.1753 884.748,-272.0613 878.8255,-272.5772 817.2807,-277.9376 801.603,-272.7601 739.8255,-272.5772 664.7865,-272.3549 631.497,-315.9595 570.9899,-271.5772 549.9098,-256.1148 573.937,-231.2193 552.9899,-215.5772 438.082,-129.7704 260.5083,-154.8655 157.3561,-180.1903\"/>\n<polygon fill=\"#0000ff\" stroke=\"#0000ff\" points=\"156.4567,-176.8074 147.6106,-182.6381 158.162,-183.5965 156.4567,-176.8074\"/>\n<text text-anchor=\"middle\" x=\"471.4899\" y=\"-220.7772\" font-family=\"Arial\" font-size=\"16.00\" fill=\"#000000\">p = 0.95 &#160;reward =&#45;100</text>\n</g>\n<!-- s1&#45;a0&#45;&gt;s1 -->\n<g id=\"edge8\" class=\"edge\">\n<title>s1&#45;a0&#45;&gt;s1</title>\n<path fill=\"none\" stroke=\"#0000ff\" stroke-dasharray=\"5,2\" d=\"M904.5053,-245.3616C896.9931,-239.0989 888.026,-232.7032 878.8255,-228.5772 877.0613,-227.786 796.5181,-213.6639 730.7433,-202.2123\"/>\n<polygon fill=\"#0000ff\" stroke=\"#0000ff\" points=\"731.1952,-198.7384 720.7432,-200.472 729.995,-205.6347 731.1952,-198.7384\"/>\n<text text-anchor=\"middle\" x=\"809.3255\" y=\"-233.7772\" font-family=\"Arial\" font-size=\"16.00\" fill=\"#000000\">p = 0.05 &#160;reward =5</text>\n</g>\n<!-- s1&#45;a1&#45;&gt;s1 -->\n<g id=\"edge10\" class=\"edge\">\n<title>s1&#45;a1&#45;&gt;s1</title>\n<path fill=\"none\" stroke=\"#0000ff\" stroke-dasharray=\"5,2\" d=\"M901.2194,-175.9556C894.3086,-172.1188 886.5188,-168.5486 878.8255,-166.5772 830.2064,-154.1185 774.2169,-158.6351 729.3752,-166.6154\"/>\n<polygon fill=\"#0000ff\" stroke=\"#0000ff\" points=\"728.5872,-163.202 719.4004,-168.4797 729.8732,-170.0829 728.5872,-163.202\"/>\n<text text-anchor=\"middle\" x=\"809.3255\" y=\"-171.7772\" font-family=\"Arial\" font-size=\"16.00\" fill=\"#000000\">p = 1 &#160;reward =1</text>\n</g>\n<!-- s1&#45;a2&#45;&gt;s0 -->\n<g id=\"edge12\" class=\"edge\">\n<title>s1&#45;a2&#45;&gt;s0</title>\n<path fill=\"none\" stroke=\"#0000ff\" stroke-dasharray=\"5,2\" d=\"M896.9149,-115.8941C857.9897,-112.2424 784.556,-105.8965 721.8255,-103.5772 475.2181,-94.4595 403.7197,-77.8952 168.8356,-153.5772 162.3365,-155.6712 155.7671,-158.2234 149.2833,-161.0578\"/>\n<polygon fill=\"#0000ff\" stroke=\"#0000ff\" points=\"147.4846,-158.0326 139.8629,-165.392 150.4105,-164.3918 147.4846,-158.0326\"/>\n<text text-anchor=\"middle\" x=\"471.4899\" y=\"-106.7772\" font-family=\"Arial\" font-size=\"16.00\" fill=\"#000000\">p = 1 &#160;reward =0.5</text>\n</g>\n</g>\n</svg>\n"
          },
          "metadata": {
            "tags": []
          }
        }
      ]
    },
    {
      "cell_type": "code",
      "metadata": {
        "colab": {
          "base_uri": "https://localhost:8080/"
        },
        "id": "dmKs13Z7vA7Z",
        "outputId": "38ce8b4a-a491-4ea2-c8a2-1778986346da"
      },
      "source": [
        "s = mdp.reset()\n",
        "mdp.render()\n",
        "\n",
        "for t in range(100):\n",
        "    a = get_optimal_action(mdp, state_values, s, gamma)\n",
        "    s, r, done, _ = mdp.step(a)\n",
        "    print(t, a, r)\n",
        "    mdp.render()\n",
        "    \n",
        "    if done:\n",
        "        break"
      ],
      "execution_count": 21,
      "outputs": [
        {
          "output_type": "stream",
          "text": [
            "Currently at s0\n",
            "0 a0 5\n",
            "Currently at s0\n",
            "1 a0 5\n",
            "Currently at s1\n",
            "2 a2 0.5\n",
            "Currently at s0\n",
            "3 a0 5\n",
            "Currently at s1\n",
            "4 a2 0.5\n",
            "Currently at s0\n",
            "5 a0 5\n",
            "Currently at s1\n",
            "6 a2 0.5\n",
            "Currently at s0\n",
            "7 a0 5\n",
            "Currently at s0\n",
            "8 a0 5\n",
            "Currently at s0\n",
            "9 a0 5\n",
            "Currently at s0\n",
            "10 a0 5\n",
            "Currently at s1\n",
            "11 a2 0.5\n",
            "Currently at s0\n",
            "12 a0 5\n",
            "Currently at s1\n",
            "13 a2 0.5\n",
            "Currently at s0\n",
            "14 a0 5\n",
            "Currently at s0\n",
            "15 a0 5\n",
            "Currently at s0\n",
            "16 a0 5\n",
            "Currently at s0\n",
            "17 a0 5\n",
            "Currently at s0\n",
            "18 a0 5\n",
            "Currently at s0\n",
            "19 a0 5\n",
            "Currently at s1\n",
            "20 a2 0.5\n",
            "Currently at s0\n",
            "21 a0 5\n",
            "Currently at s1\n",
            "22 a2 0.5\n",
            "Currently at s0\n",
            "23 a0 5\n",
            "Currently at s1\n",
            "24 a2 0.5\n",
            "Currently at s0\n",
            "25 a0 5\n",
            "Currently at s0\n",
            "26 a0 5\n",
            "Currently at s1\n",
            "27 a2 0.5\n",
            "Currently at s0\n",
            "28 a0 5\n",
            "Currently at s1\n",
            "29 a2 0.5\n",
            "Currently at s0\n",
            "30 a0 5\n",
            "Currently at s1\n",
            "31 a2 0.5\n",
            "Currently at s0\n",
            "32 a0 5\n",
            "Currently at s0\n",
            "33 a0 5\n",
            "Currently at s1\n",
            "34 a2 0.5\n",
            "Currently at s0\n",
            "35 a0 5\n",
            "Currently at s0\n",
            "36 a0 5\n",
            "Currently at s0\n",
            "37 a0 5\n",
            "Currently at s0\n",
            "38 a0 5\n",
            "Currently at s1\n",
            "39 a2 0.5\n",
            "Currently at s0\n",
            "40 a0 5\n",
            "Currently at s1\n",
            "41 a2 0.5\n",
            "Currently at s0\n",
            "42 a0 5\n",
            "Currently at s1\n",
            "43 a2 0.5\n",
            "Currently at s0\n",
            "44 a0 5\n",
            "Currently at s1\n",
            "45 a2 0.5\n",
            "Currently at s0\n",
            "46 a0 5\n",
            "Currently at s0\n",
            "47 a0 5\n",
            "Currently at s0\n",
            "48 a0 5\n",
            "Currently at s1\n",
            "49 a2 0.5\n",
            "Currently at s0\n",
            "50 a0 5\n",
            "Currently at s0\n",
            "51 a0 5\n",
            "Currently at s0\n",
            "52 a0 5\n",
            "Currently at s0\n",
            "53 a0 5\n",
            "Currently at s0\n",
            "54 a0 5\n",
            "Currently at s0\n",
            "55 a0 5\n",
            "Currently at s0\n",
            "56 a0 5\n",
            "Currently at s0\n",
            "57 a0 5\n",
            "Currently at s1\n",
            "58 a2 0.5\n",
            "Currently at s0\n",
            "59 a0 5\n",
            "Currently at s0\n",
            "60 a0 5\n",
            "Currently at s0\n",
            "61 a0 5\n",
            "Currently at s1\n",
            "62 a2 0.5\n",
            "Currently at s0\n",
            "63 a0 5\n",
            "Currently at s1\n",
            "64 a2 0.5\n",
            "Currently at s0\n",
            "65 a0 5\n",
            "Currently at s1\n",
            "66 a2 0.5\n",
            "Currently at s0\n",
            "67 a0 5\n",
            "Currently at s0\n",
            "68 a0 5\n",
            "Currently at s1\n",
            "69 a2 0.5\n",
            "Currently at s0\n",
            "70 a0 5\n",
            "Currently at s0\n",
            "71 a0 5\n",
            "Currently at s0\n",
            "72 a0 5\n",
            "Currently at s1\n",
            "73 a2 0.5\n",
            "Currently at s0\n",
            "74 a0 5\n",
            "Currently at s1\n",
            "75 a2 0.5\n",
            "Currently at s0\n",
            "76 a0 5\n",
            "Currently at s1\n",
            "77 a2 0.5\n",
            "Currently at s0\n",
            "78 a0 5\n",
            "Currently at s1\n",
            "79 a2 0.5\n",
            "Currently at s0\n",
            "80 a0 5\n",
            "Currently at s1\n",
            "81 a2 0.5\n",
            "Currently at s0\n",
            "82 a0 5\n",
            "Currently at s1\n",
            "83 a2 0.5\n",
            "Currently at s0\n",
            "84 a0 5\n",
            "Currently at s0\n",
            "85 a0 5\n",
            "Currently at s1\n",
            "86 a2 0.5\n",
            "Currently at s0\n",
            "87 a0 5\n",
            "Currently at s1\n",
            "88 a2 0.5\n",
            "Currently at s0\n",
            "89 a0 5\n",
            "Currently at s0\n",
            "90 a0 5\n",
            "Currently at s0\n",
            "91 a0 5\n",
            "Currently at s1\n",
            "92 a2 0.5\n",
            "Currently at s0\n",
            "93 a0 5\n",
            "Currently at s0\n",
            "94 a0 5\n",
            "Currently at s1\n",
            "95 a2 0.5\n",
            "Currently at s0\n",
            "96 a0 5\n",
            "Currently at s0\n",
            "97 a0 5\n",
            "Currently at s0\n",
            "98 a0 5\n",
            "Currently at s1\n",
            "99 a2 0.5\n",
            "Currently at s0\n"
          ],
          "name": "stdout"
        }
      ]
    },
    {
      "cell_type": "code",
      "metadata": {
        "colab": {
          "base_uri": "https://localhost:8080/"
        },
        "id": "C-V_OlhzvA5N",
        "outputId": "dd6c8f0d-ae80-437d-8ef9-bfb568c4d510"
      },
      "source": [
        "mdp.render()"
      ],
      "execution_count": 22,
      "outputs": [
        {
          "output_type": "stream",
          "text": [
            "Currently at s0\n"
          ],
          "name": "stdout"
        }
      ]
    }
  ]
}